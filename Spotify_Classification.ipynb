{
 "cells": [
  {
   "cell_type": "markdown",
   "id": "d8346cb9",
   "metadata": {},
   "source": [
    "## Fundamental of Machine Learning for Data Analytics Group Assignment"
   ]
  },
  {
   "cell_type": "markdown",
   "id": "b3fba1bd",
   "metadata": {},
   "source": [
    "### CS985/6 Spotify Classification Problem 2024"
   ]
  },
  {
   "cell_type": "markdown",
   "id": "74ac1d1d",
   "metadata": {},
   "source": [
    "## 1. Introduction "
   ]
  },
  {
   "cell_type": "markdown",
   "id": "5d94f314",
   "metadata": {},
   "source": [
    "In the realm of machine learning, classification is a supervised learning approach focused on predicting labels for new data by learning patterns from pre-labelled datasets. In the domain of music streaming services, such as Spotify, classification plays a crucial role in categorizing songs into genres. This is essential for enhancing user experience by providing personalized music recommendations. The challenge of this project lies in leveraging machine learning to predict a song's genre using Spotify's data, which includes attributes like tempo and energy. Despite the subjective nature of musical genres, the goal is to develop an accurate model for genre prediction, ultimately improving content organization and user discovery on streaming platforms."
   ]
  },
  {
   "cell_type": "markdown",
   "id": "f8720ede",
   "metadata": {},
   "source": [
    "The notebook is created on Jupyter Notebook with the following detail:\n",
    "- Python version 3.10.9 | packaged by Anaconda, Inc.\n",
    "- Jupyter version 6.5.2"
   ]
  },
  {
   "cell_type": "code",
   "execution_count": 1,
   "id": "2e1e98c6",
   "metadata": {
    "id": "2e1e98c6",
    "slideshow": {
     "slide_type": "skip"
    }
   },
   "outputs": [],
   "source": [
    "# For handling data\n",
    "import numpy as np\n",
    "import pandas as pd\n",
    "from scipy.stats import randint, uniform\n",
    "\n",
    "# For plotting\n",
    "import matplotlib.pyplot as plt\n",
    "import seaborn as sns\n",
    "\n",
    "# For feature transformation and scaling \n",
    "from sklearn.preprocessing import OneHotEncoder, LabelEncoder, StandardScaler, PowerTransformer, FunctionTransformer\n",
    "from sklearn.metrics.pairwise import cosine_similarity\n",
    "from sklearn.decomposition import PCA\n",
    "from sklearn.pipeline import make_pipeline\n",
    "from sklearn.compose import ColumnTransformer\n",
    "\n",
    "# For fine-tune model\n",
    "from sklearn.feature_selection import RFECV\n",
    "from sklearn.model_selection import GridSearchCV, RandomizedSearchCV\n",
    "\n",
    "# Model\n",
    "from sklearn.linear_model import LogisticRegression\n",
    "from sklearn.svm import LinearSVC\n",
    "from sklearn.tree import DecisionTreeClassifier\n",
    "from xgboost import XGBClassifier\n",
    "from sklearn.ensemble import RandomForestClassifier, VotingClassifier\n",
    "\n",
    "import warnings\n",
    "warnings.simplefilter(action='ignore')"
   ]
  },
  {
   "cell_type": "code",
   "execution_count": 2,
   "id": "17fd4c57",
   "metadata": {},
   "outputs": [],
   "source": [
    "# Upload data\n",
    "data_train = pd.read_csv('CS98XClassificationTrain.csv')\n",
    "data_test = pd.read_csv('CS98XClassificationTest.csv')"
   ]
  },
  {
   "cell_type": "markdown",
   "id": "fbbdc626",
   "metadata": {
    "id": "fbbdc626"
   },
   "source": [
    "## 2. Exploratory Data Analysis"
   ]
  },
  {
   "cell_type": "markdown",
   "id": "352ce391",
   "metadata": {},
   "source": [
    "Take a look at dataset"
   ]
  },
  {
   "cell_type": "code",
   "execution_count": 3,
   "id": "f35f5e84",
   "metadata": {
    "colab": {
     "base_uri": "https://localhost:8080/"
    },
    "id": "f35f5e84",
    "outputId": "9ed94ab0-2026-48f4-a670-24bece35f7a4"
   },
   "outputs": [
    {
     "name": "stdout",
     "output_type": "stream",
     "text": [
      "<class 'pandas.core.frame.DataFrame'>\n",
      "RangeIndex: 453 entries, 0 to 452\n",
      "Data columns (total 15 columns):\n",
      " #   Column     Non-Null Count  Dtype \n",
      "---  ------     --------------  ----- \n",
      " 0   Id         453 non-null    int64 \n",
      " 1   title      453 non-null    object\n",
      " 2   artist     453 non-null    object\n",
      " 3   year       453 non-null    int64 \n",
      " 4   bpm        453 non-null    int64 \n",
      " 5   nrgy       453 non-null    int64 \n",
      " 6   dnce       453 non-null    int64 \n",
      " 7   dB         453 non-null    int64 \n",
      " 8   live       453 non-null    int64 \n",
      " 9   val        453 non-null    int64 \n",
      " 10  dur        453 non-null    int64 \n",
      " 11  acous      453 non-null    int64 \n",
      " 12  spch       453 non-null    int64 \n",
      " 13  pop        453 non-null    int64 \n",
      " 14  top genre  438 non-null    object\n",
      "dtypes: int64(12), object(3)\n",
      "memory usage: 53.2+ KB\n"
     ]
    }
   ],
   "source": [
    "data_train.info()"
   ]
  },
  {
   "cell_type": "markdown",
   "id": "1860fa66",
   "metadata": {},
   "source": [
    "The train dataset has 453 rows and 14 columns. Among these columns, there are 3 categorical variables, namely title, artist and the target variable \"top genre\":\n",
    "- \"title\" column has 451 unique values, which will be dropped as it might not support to predict genre of the song. We have tried applying tfidf to vectorize title based on text but it did not improve the performance of model.\n",
    "- \"artist\" column consists of 345 unique values. Generally, a singer typically focuses on specific music genres that align with their strengths or suit their vocal range and singing style. Therefore, we will encode \"artist\" variable and then use Princial Component Analysis to reduce the number of dimensions that results from encoding.\n",
    "- There are 86 unique values in \"top genre\" column, that refers to multiclass classification. It's noted that 15 out of 86 genre classes account for nearly 70% of the observations in the dataset. Meanwhile, other genres have frequencies below 6, that might be difficult to predict because of the small number of observations. Therefore, we will group the music genres to focus on predicting groups with high frequencies. Details of the grouping method will be detailed below."
   ]
  },
  {
   "cell_type": "code",
   "execution_count": 4,
   "id": "ef92ea45",
   "metadata": {},
   "outputs": [
    {
     "data": {
      "text/plain": [
       "451"
      ]
     },
     "execution_count": 4,
     "metadata": {},
     "output_type": "execute_result"
    }
   ],
   "source": [
    "len(data_train['title'].unique())"
   ]
  },
  {
   "cell_type": "code",
   "execution_count": 5,
   "id": "75dc9cc7",
   "metadata": {},
   "outputs": [
    {
     "data": {
      "text/plain": [
       "345"
      ]
     },
     "execution_count": 5,
     "metadata": {},
     "output_type": "execute_result"
    }
   ],
   "source": [
    "len(data_train['artist'].value_counts())"
   ]
  },
  {
   "cell_type": "code",
   "execution_count": 6,
   "id": "c0ae8ac7",
   "metadata": {
    "colab": {
     "base_uri": "https://localhost:8080/"
    },
    "id": "c0ae8ac7",
    "outputId": "7c3b1baf-43cd-48fa-cf11-e7d66d9b1c06"
   },
   "outputs": [
    {
     "data": {
      "text/plain": [
       "top genre\n",
       "adult standards       68\n",
       "album rock            66\n",
       "dance pop             61\n",
       "brill building pop    16\n",
       "glam rock             16\n",
       "                      ..\n",
       "bow pop                1\n",
       "australian rock        1\n",
       "boogaloo               1\n",
       "british comedy         1\n",
       "alternative rock       1\n",
       "Name: count, Length: 86, dtype: int64"
      ]
     },
     "execution_count": 6,
     "metadata": {},
     "output_type": "execute_result"
    }
   ],
   "source": [
    "# Check the distribution of top genre\n",
    "data_train['top genre'].value_counts()"
   ]
  },
  {
   "cell_type": "code",
   "execution_count": 7,
   "id": "T-jx6I58up-o",
   "metadata": {
    "id": "T-jx6I58up-o"
   },
   "outputs": [],
   "source": [
    "# Drop unused column\n",
    "data_train.drop(['Id', 'title'], axis = 1, inplace = True)"
   ]
  },
  {
   "cell_type": "code",
   "execution_count": 8,
   "id": "13e5b392",
   "metadata": {
    "colab": {
     "base_uri": "https://localhost:8080/",
     "height": 639
    },
    "id": "13e5b392",
    "outputId": "f8aa666a-9cd2-4f3e-d4a4-7ceb85239039",
    "scrolled": false
   },
   "outputs": [
    {
     "data": {
      "image/png": "[encoded data removed]",
      "text/plain": [
       "<Figure size 1400x700 with 12 Axes>"
      ]
     },
     "metadata": {},
     "output_type": "display_data"
    }
   ],
   "source": [
    "# Plot histograms\n",
    "fig, axs = plt.subplots((len(data_train.drop(['top genre', 'artist'], axis=1).columns) - 1) // 4 + 1, 4, figsize=(14, 7))\n",
    "fig.subplots_adjust(hspace=0.5, wspace=0.5)\n",
    "for ax, col in zip(axs.flatten(), data_train.drop(['top genre', 'artist'], axis=1).columns):\n",
    "    ax.histplot(data_train[col], bins=10, color='skyblue', edgecolor='black', kde = True)\n",
    "    ax.set_title(col)\n",
    "# Hide any empty subplots\n",
    "for ax in axs.flatten()[len(data_train.drop(['top genre', 'artist'], axis=1).columns):]:\n",
    "    ax.axis('off')"
   ]
  },
  {
   "cell_type": "markdown",
   "id": "56a9b4d7",
   "metadata": {},
   "source": [
    "A histogram was plotted for all the features to visualize the distribution of the data.\n",
    "- Year presents a bimodal distribution.\n",
    "- Liveness, duration, acousticness and speechiness data are right-skewed.\n",
    "- Popularity data is slightly left skewed."
   ]
  },
  {
   "cell_type": "code",
   "execution_count": 9,
   "id": "60b6a2de",
   "metadata": {
    "colab": {
     "base_uri": "https://localhost:8080/",
     "height": 737
    },
    "id": "60b6a2de",
    "outputId": "98f614ef-aac8-4438-c9b2-daeee77338ba"
   },
   "outputs": [
    {
     "data": {
      "image/png": "[encoded data removed]",
      "text/plain": [
       "<Figure size 600x400 with 2 Axes>"
      ]
     },
     "metadata": {},
     "output_type": "display_data"
    }
   ],
   "source": [
    "# Check correlation\n",
    "plt.figure(figsize=(6,4))\n",
    "sns.heatmap(data_train.drop(['top genre', 'artist'], axis =1).corr(), annot= True,fmt=\".1f\", cmap ='YlGnBu', linewidth = 0.5)\n",
    "plt.show()"
   ]
  },
  {
   "cell_type": "markdown",
   "id": "3177da3c",
   "metadata": {},
   "source": [
    "- Moderate positive correlation between the features: Energy and loudness, Valence and danceability, Energy and valence\n",
    "- Weak positive correlation between the features: Energy and danceability, Energy and popularity\n",
    "- Moderate negative correlation between the features: Energy and acousticness, Loudness and acousticness, Acousticness and popularity\n"
   ]
  },
  {
   "cell_type": "code",
   "execution_count": 10,
   "id": "c4cd9a43",
   "metadata": {},
   "outputs": [
    {
     "data": {
      "image/png": "[encoded data removed]",
      "text/plain": [
       "<Figure size 1400x700 with 12 Axes>"
      ]
     },
     "metadata": {},
     "output_type": "display_data"
    }
   ],
   "source": [
    "# Plot boxplot to check outliers\n",
    "fig, axs = plt.subplots((len(data_train.drop(['top genre', 'artist'], axis=1).columns) - 1) // 4 + 1, 4, figsize=(14, 7))\n",
    "fig.subplots_adjust(hspace=0.5, wspace=0.5)\n",
    "for ax, col in zip(axs.flatten(), data_train.drop(['top genre', 'artist'], axis=1).columns):\n",
    "    ax.boxplot(data_train[col], boxprops = dict(facecolor=\"skyblue\", edgecolor=\"black\", alpha=0.5), patch_artist=True)\n",
    "    ax.set_title(col)\n",
    "# Hide any empty subplots\n",
    "for ax in axs.flatten()[len(data_train.drop(['top genre', 'artist'], axis=1).columns):]:\n",
    "    ax.axis('off')"
   ]
  },
  {
   "cell_type": "markdown",
   "id": "9e4672c2",
   "metadata": {},
   "source": [
    "The attributes liveness, duration and speechness have outliers. No outliers were removed because we have a small dataset and consider important to keep as many instances as possible."
   ]
  },
  {
   "cell_type": "markdown",
   "id": "e0c45255",
   "metadata": {},
   "source": [
    "In the train data, the years of the songs presented had a range of 71 years going from 1948 to 2019. As the range of years presented in data is too wide in proportion to the data size (15.7%) , grouping the years into meaningful categoriels (decades ) provide better information for building the model."
   ]
  },
  {
   "cell_type": "markdown",
   "id": "a787c98d",
   "metadata": {},
   "source": [
    "For modeling purposes, it is desirable to work with normally distributed curves. Our data has non-normal properties that we should approximate to a normal curve. \n",
    "- For the attributes \"speechiness,\" \"liveness,\" and \"duration,\" which have positive values, the Box-Cox transformation was applied to transforms data so it resembles a normal distribution.\n",
    "- For the feature ‘acousticnness’ presented zero values, Yeo-Johnson transformation was used as Box-Cox transformation requires data to be strictly positive."
   ]
  },
  {
   "cell_type": "markdown",
   "id": "699c2be8",
   "metadata": {},
   "source": [
    "Finally, in order to have data with similar scaling and making it suitable for modeling, all numerical features were scaled using ‘StandardScaler’ from scikit-learn library."
   ]
  },
  {
   "cell_type": "code",
   "execution_count": 11,
   "id": "b5fb7d4d",
   "metadata": {},
   "outputs": [
    {
     "data": {
      "text/plain": [
       "artist        0\n",
       "year          0\n",
       "bpm           0\n",
       "nrgy          0\n",
       "dnce          0\n",
       "dB            0\n",
       "live          0\n",
       "val           0\n",
       "dur           0\n",
       "acous         0\n",
       "spch          0\n",
       "pop           0\n",
       "top genre    15\n",
       "dtype: int64"
      ]
     },
     "execution_count": 11,
     "metadata": {},
     "output_type": "execute_result"
    }
   ],
   "source": [
    "# Check null values\n",
    "data_train.isna().sum()"
   ]
  },
  {
   "cell_type": "markdown",
   "id": "f3a0c830",
   "metadata": {},
   "source": [
    "There are 15 null values in \"top genre\" variable. Because of the small size of dataset, we will fill null values with most frequent class to keep observation as many as possible."
   ]
  },
  {
   "cell_type": "code",
   "execution_count": 12,
   "id": "80e06896",
   "metadata": {},
   "outputs": [
    {
     "data": {
      "text/plain": [
       "1"
      ]
     },
     "execution_count": 12,
     "metadata": {},
     "output_type": "execute_result"
    }
   ],
   "source": [
    "#Check duplicated values\n",
    "data_train.duplicated().sum()"
   ]
  },
  {
   "cell_type": "markdown",
   "id": "27318a19",
   "metadata": {
    "id": "27318a19"
   },
   "source": [
    "## 3. Preprocessing"
   ]
  },
  {
   "cell_type": "markdown",
   "id": "e79cb277",
   "metadata": {},
   "source": [
    "### 3.1 Cleaning data"
   ]
  },
  {
   "cell_type": "code",
   "execution_count": 13,
   "id": "ab1a3db6",
   "metadata": {
    "id": "ab1a3db6"
   },
   "outputs": [],
   "source": [
    "# Fill null value in top genre with the mode and drop duplicates\n",
    "mode_genre = data_train['top genre'].value_counts().index[0]\n",
    "data_train= data_train.fillna(mode_genre)\n",
    "data_train.drop_duplicates(inplace = True)\n",
    "data_train.reset_index(drop=True, inplace = True)"
   ]
  },
  {
   "cell_type": "code",
   "execution_count": 14,
   "id": "508fe2d0",
   "metadata": {
    "id": "508fe2d0"
   },
   "outputs": [],
   "source": [
    "# Filtering atributes\n",
    "atributes = data_train.drop('top genre', axis =1)"
   ]
  },
  {
   "cell_type": "markdown",
   "id": "256b80e8",
   "metadata": {},
   "source": [
    "### 3.2 Transformation Pipeline"
   ]
  },
  {
   "cell_type": "code",
   "execution_count": 15,
   "id": "266ce626",
   "metadata": {},
   "outputs": [],
   "source": [
    "# Make boxcox and yeo johnson transformation\n",
    "boxcox = PowerTransformer(method = 'box-cox', standardize = False)\n",
    "yeo_johnson = PowerTransformer(method = 'yeo-johnson', standardize = False)\n",
    "\n",
    "# Make box cox and yeo johnson pipeline for spch, live,dur and acous\n",
    "box_pipeline = make_pipeline(boxcox, StandardScaler())\n",
    "yeo_pipeline = make_pipeline(yeo_johnson, StandardScaler())\n",
    "\n",
    "# Make a default num piple to standard scaling the remaining columns\n",
    "default_num_pipeline = StandardScaler()\n",
    "\n",
    "# Make year pipeline\n",
    "year_transformer = FunctionTransformer(lambda X: (np.floor(X/10)*10).astype('category'), feature_names_out =  'one-to-one')\n",
    "year_pipeline = make_pipeline(year_transformer, OneHotEncoder(handle_unknown = 'ignore', sparse_output = False))\n",
    "\n",
    "# Make artist pipeline\n",
    "artist_pipeline = make_pipeline(OneHotEncoder(handle_unknown = 'ignore', sparse_output = False), \n",
    "                                PCA(n_components = 0.95, random_state = 42))\n",
    "\n",
    "preprocessing = ColumnTransformer([\n",
    "    ('boxcox',box_pipeline, ['spch', 'live', 'dur']),\n",
    "    ('yeo_johnson',yeo_pipeline, ['acous']),\n",
    "    ('decade', year_pipeline, ['year']),\n",
    "    ('reduced', artist_pipeline, ['artist'])\n",
    "], remainder = default_num_pipeline)"
   ]
  },
  {
   "cell_type": "code",
   "execution_count": 16,
   "id": "e9520f3c",
   "metadata": {},
   "outputs": [],
   "source": [
    "atributes = data_train.drop('top genre', axis =1)\n",
    "X_train = pd.DataFrame(preprocessing.fit_transform(atributes), columns = preprocessing.get_feature_names_out())"
   ]
  },
  {
   "cell_type": "markdown",
   "id": "c5095293",
   "metadata": {},
   "source": [
    "After fitting and transfoming train dataset, the same techniques were applied in transforming test dataset."
   ]
  },
  {
   "cell_type": "code",
   "execution_count": 17,
   "id": "6fc289ac",
   "metadata": {},
   "outputs": [],
   "source": [
    "test_atributes = data_test.drop(['Id', 'title'], axis = 1)\n",
    "X_test = pd.DataFrame(preprocessing.transform(test_atributes), columns = preprocessing.get_feature_names_out())"
   ]
  },
  {
   "cell_type": "markdown",
   "id": "xLCFtYFEdSIx",
   "metadata": {
    "id": "xLCFtYFEdSIx"
   },
   "source": [
    "### 3.3 Group target classes"
   ]
  },
  {
   "cell_type": "markdown",
   "id": "161a0323",
   "metadata": {},
   "source": [
    "The idea to group classes here is vectorizing each class based on the numerical features and then computing their cosine similarities with top 15 most frequent classes. Consequently, the class with highest similarity will be grouped into top 15 most frequent classes and replaced in target variable."
   ]
  },
  {
   "cell_type": "code",
   "execution_count": 18,
   "id": "DdrXkE_GtnK_",
   "metadata": {
    "colab": {
     "base_uri": "https://localhost:8080/"
    },
    "id": "DdrXkE_GtnK_",
    "outputId": "ad855e67-057e-431d-b526-5813bbdb25ae"
   },
   "outputs": [],
   "source": [
    "def GenreGroup(df, n_group = 15):\n",
    "    num_scale = X_train[['boxcox__spch', 'boxcox__live', 'boxcox__dur', 'yeo_johnson__acous','remainder__bpm', \n",
    "                         'remainder__nrgy', 'remainder__dnce', 'remainder__dB','remainder__val', 'remainder__pop']] \n",
    "    music_features = pd.concat([num_scale, df['top genre']], axis = 1)\n",
    "    feature_mean = []\n",
    "    for i in df['top genre'].value_counts().index:\n",
    "        feature_mean.append(np.mean(music_features[music_features['top genre']==i].drop('top genre', axis=1), axis = 0))\n",
    "    \n",
    "    high_genre = data_train['top genre'].value_counts().index[:n_group]\n",
    "    low_genre =  data_train['top genre'].value_counts().index[n_group:]\n",
    "    \n",
    "    feature_df = pd.DataFrame(feature_mean)\n",
    "    cosine_similarities = cosine_similarity(feature_df.iloc[-len(low_genre):], feature_df.iloc[:-len(low_genre)])\n",
    "    \n",
    "    # Assign each input string to the label of the most similar standard string\n",
    "    labels = {}\n",
    "    for i, input_string in enumerate(low_genre):\n",
    "        most_similar_standard_index = cosine_similarities[i].argmax()\n",
    "        most_similar_standard_string = high_genre[most_similar_standard_index]\n",
    "        if most_similar_standard_string not in labels:\n",
    "            labels[most_similar_standard_string] = []\n",
    "        labels[most_similar_standard_string].append(input_string)\n",
    "    y_train = data_train['top genre']\n",
    "    for i in labels.keys():\n",
    "        y_train = y_train.replace(labels[i], i)\n",
    "    return y_train\n",
    "\n",
    "y_train = GenreGroup(data_train, n_group = 15)"
   ]
  },
  {
   "cell_type": "markdown",
   "id": "02c4bfab",
   "metadata": {},
   "source": [
    "## 4. Training Models"
   ]
  },
  {
   "cell_type": "markdown",
   "id": "043d0160",
   "metadata": {},
   "source": [
    "For classification task, we trained and fine-tuned hyperparameters of 6 classifiers, namely Logistic Regression, Linear Support Vector Machine, Random Forest, Gradient Boosting, XGBoosting, and Voting Classifiers. All these models were evaluated using 5-fold cross-validation and accuracy ratio."
   ]
  },
  {
   "cell_type": "markdown",
   "id": "1dcd428f",
   "metadata": {
    "id": "1dcd428f"
   },
   "source": [
    "### 4.1 Logistic Regression"
   ]
  },
  {
   "cell_type": "markdown",
   "id": "e4fa2484",
   "metadata": {},
   "source": [
    "Logistic Regression is a machine learning algorithm which calculates a weighted sum of attributes with a bias term and its output would be the logistic of the final result. In this model, the feature selection was performed using recursive feature elimination. Firstly, the model will be built based on the full set of input variables, and then the least important variables will be removed after each iteration. This process will be repeated until the optimal number of variables is reached. Specifically, in our logistic model, 176 columns were retained to build the model. In addition, we also fine tuned the hyperparameter C with 2 values of 0.1 and 1 for regularization and choose \"lbfgs\" solver to optimize model as it can handle multinomial loss in multiclass classification."
   ]
  },
  {
   "cell_type": "code",
   "execution_count": 19,
   "id": "2a18ff17",
   "metadata": {
    "colab": {
     "base_uri": "https://localhost:8080/"
    },
    "id": "2a18ff17",
    "outputId": "e3bea813-9ba2-4c50-f4da-ffabc7e25dc1"
   },
   "outputs": [],
   "source": [
    "log =LogisticRegression()\n",
    "rfecv = RFECV(estimator=log, scoring='accuracy')\n",
    "param_grid = {'estimator__C': [0.1, 1], 'estimator__solver': ['lbfgs'] }\n",
    "grid_log = GridSearchCV(estimator=rfecv, param_grid=param_grid, scoring='accuracy', cv=5)\n",
    "# Fit grid search to training data\n",
    "grid_log.fit(X_train, y_train)\n",
    "# Get the best estimator from grid search\n",
    "best_log = grid_log.best_estimator_\n",
    "# Get selected feature indices\n",
    "selected_feature_indices = best_log.get_support(indices=True)"
   ]
  },
  {
   "cell_type": "code",
   "execution_count": 20,
   "id": "5263e9b9",
   "metadata": {},
   "outputs": [
    {
     "name": "stdout",
     "output_type": "stream",
     "text": [
      "176\n",
      "{'estimator__C': 1, 'estimator__solver': 'lbfgs'}\n"
     ]
    }
   ],
   "source": [
    "print(len(selected_feature_indices))\n",
    "print(grid_log.best_params_)"
   ]
  },
  {
   "cell_type": "code",
   "execution_count": 21,
   "id": "9880a5ab",
   "metadata": {
    "colab": {
     "base_uri": "https://localhost:8080/"
    },
    "id": "9880a5ab",
    "outputId": "1319966d-924e-4192-cb6d-d4cabfe41ae5"
   },
   "outputs": [],
   "source": [
    "# Best accuracy in cross validation\n",
    "valid_log = grid_log.best_score_\n",
    "y_pred_log = best_log.predict(X_test)"
   ]
  },
  {
   "cell_type": "markdown",
   "id": "ENUi-szG5Rf2",
   "metadata": {
    "id": "ENUi-szG5Rf2"
   },
   "source": [
    "### 4.2 Linear Support Vector Machine"
   ]
  },
  {
   "cell_type": "markdown",
   "id": "0905142f",
   "metadata": {},
   "source": [
    "Linear Support Vector Machine is a algorithm that find the best boundary to divide data into different classes. In this model, we fine-tuned the hyperparameter C for regularization with 3 values, including 1, 10 and 100. As the dataset is high-dimensional with over 300 columns after transformation and has a small size of 453 observations, SVM would be an approriate approach as it can perform well in handling high-dimensional and small datasets."
   ]
  },
  {
   "cell_type": "code",
   "execution_count": 22,
   "id": "LkKMrt5BPhks",
   "metadata": {
    "colab": {
     "base_uri": "https://localhost:8080/"
    },
    "id": "LkKMrt5BPhks",
    "outputId": "015a54da-fedf-4c2d-ebf3-434724f53e9a"
   },
   "outputs": [
    {
     "data": {
      "text/plain": [
       "{'C': 1}"
      ]
     },
     "execution_count": 22,
     "metadata": {},
     "output_type": "execute_result"
    }
   ],
   "source": [
    "svm_class = LinearSVC(random_state=42)\n",
    "param_grid = {'C': [1,10,100]}\n",
    "grid_svm = GridSearchCV(svm_class,param_grid,cv=5,scoring='accuracy')\n",
    "grid_svm.fit(X_train, y_train)\n",
    "grid_svm.best_params_"
   ]
  },
  {
   "cell_type": "code",
   "execution_count": 23,
   "id": "olkImZJ6Phpu",
   "metadata": {
    "colab": {
     "base_uri": "https://localhost:8080/"
    },
    "id": "olkImZJ6Phpu",
    "outputId": "98c84fc1-ba0f-4ad1-cd44-7b277f184469",
    "scrolled": true
   },
   "outputs": [],
   "source": [
    "valid_svm = grid_svm.best_score_\n",
    "best_svm = grid_svm.best_estimator_\n",
    "y_pred_svm = best_svm.predict(X_test)"
   ]
  },
  {
   "cell_type": "markdown",
   "id": "gd2Rjvo9F2iS",
   "metadata": {
    "id": "gd2Rjvo9F2iS"
   },
   "source": [
    "### 4.3 Ensemble Methods"
   ]
  },
  {
   "cell_type": "markdown",
   "id": "sAZOo0SDUnRO",
   "metadata": {
    "id": "sAZOo0SDUnRO"
   },
   "source": [
    "#### 4.3.1 Random Forest"
   ]
  },
  {
   "cell_type": "markdown",
   "id": "002822ee",
   "metadata": {},
   "source": [
    "Random Forest is an ensemble method with Decision Tree technique as a base predictor. It fits a number of decision trees on many sub-samples of the dataset to improve the accuracy and control over-fitting. Another advantage of random forest is handling noisy data and outliers, which would be approriate for this dataset as there are many outliers in \"dur\", \"live\", \"spch\" variables. In this model, the hyperparameters which were fine-tuned are max features, the number of estimators and max leaf nodes."
   ]
  },
  {
   "cell_type": "code",
   "execution_count": 24,
   "id": "sZLRQ_SmTnto",
   "metadata": {
    "colab": {
     "base_uri": "https://localhost:8080/"
    },
    "id": "sZLRQ_SmTnto",
    "outputId": "5491cc0a-e97e-4c6e-9252-b4e25b2b2aeb"
   },
   "outputs": [
    {
     "data": {
      "text/plain": [
       "{'max_features': 25, 'max_leaf_nodes': 18, 'n_estimators': 200}"
      ]
     },
     "execution_count": 24,
     "metadata": {},
     "output_type": "execute_result"
    }
   ],
   "source": [
    "forest_class = RandomForestClassifier(random_state=42)\n",
    "param_grid = {\n",
    "    'max_features':[5,10,15,20,25],\n",
    "    'n_estimators': [50,100,150,200,250],\n",
    "    'max_leaf_nodes': [4,8,12,16,18]}\n",
    "grid_rf = GridSearchCV(forest_class,param_grid,cv=5,scoring='accuracy')\n",
    "grid_rf.fit(X_train, y_train)\n",
    "grid_rf.best_params_"
   ]
  },
  {
   "cell_type": "code",
   "execution_count": 25,
   "id": "Zw4Cg0YnVAuV",
   "metadata": {
    "colab": {
     "base_uri": "https://localhost:8080/"
    },
    "id": "Zw4Cg0YnVAuV",
    "outputId": "6d2a5d6f-10e4-4f13-c08f-3b09cdd1c776"
   },
   "outputs": [],
   "source": [
    "valid_rf = grid_rf.best_score_\n",
    "best_rf = grid_rf.best_estimator_\n",
    "y_pred_rf = best_rf.predict(X_test)"
   ]
  },
  {
   "cell_type": "code",
   "execution_count": 30,
   "id": "9d49537c",
   "metadata": {},
   "outputs": [
    {
     "name": "stdout",
     "output_type": "stream",
     "text": [
      "Top 10 most important features\n",
      "Feature: yeo_johnson__acous, Importance: 0.06\n",
      "Feature: remainder__nrgy, Importance: 0.05\n",
      "Feature: boxcox__dur, Importance: 0.05\n",
      "Feature: remainder__pop, Importance: 0.03\n",
      "Feature: remainder__dnce, Importance: 0.03\n",
      "Feature: remainder__dB, Importance: 0.03\n",
      "Feature: reduced__pca3, Importance: 0.03\n",
      "Feature: reduced__pca2, Importance: 0.03\n",
      "Feature: reduced__pca7, Importance: 0.02\n",
      "Feature: reduced__pca6, Importance: 0.02\n"
     ]
    }
   ],
   "source": [
    "feature_importance_rf = best_rf.feature_importances_.round(2)\n",
    "feature_names = X_train.columns\n",
    "# Sort feature importances and feature names together\n",
    "sorted_features_rf = sorted(zip(feature_importance_rf, feature_names), reverse=True)\n",
    "# Print the sorted features\n",
    "print('Top 10 most important features')\n",
    "for importance, feature_name in sorted_features_rf[:10]:\n",
    "    print(f\"Feature: {feature_name}, Importance: {importance}\")"
   ]
  },
  {
   "cell_type": "markdown",
   "id": "E5DsqrSRGNrF",
   "metadata": {
    "id": "E5DsqrSRGNrF"
   },
   "source": [
    "#### 4.3.2 Gradient Boosting"
   ]
  },
  {
   "cell_type": "markdown",
   "id": "954b1512",
   "metadata": {},
   "source": [
    "Gradient Boosting is a machine learning algorithm that works by iteratively adding predictors to correct the errors of previous predictions. This method attempts to fit the new prediction to the residual of the predecessor. Genarally, gradient boosting is more robust than Ada Boosting as it updates the weight based on gradients, which are less sensitive to outliers. The hyperparameter fine-tuned in this technique are maximum depth of the individual regression estimators, that limit the number of nodes in the tree, number of estimators and learning rate."
   ]
  },
  {
   "cell_type": "code",
   "execution_count": 29,
   "id": "V9J9ZrLoGLHO",
   "metadata": {
    "colab": {
     "base_uri": "https://localhost:8080/"
    },
    "id": "V9J9ZrLoGLHO",
    "outputId": "edccd1fd-9e95-4cf4-9bbe-15e681d4af03"
   },
   "outputs": [
    {
     "data": {
      "text/plain": [
       "{'learning_rate': 0.2, 'max_depth': 6, 'n_estimators': 200}"
      ]
     },
     "execution_count": 29,
     "metadata": {},
     "output_type": "execute_result"
    }
   ],
   "source": [
    "from sklearn.ensemble import GradientBoostingClassifier\n",
    "gbrt = GradientBoostingClassifier(random_state=42)\n",
    "param_grid = {'max_depth':[2,6], 'n_estimators': [100,200], 'learning_rate': [0.1,0.2]}\n",
    "grid_gb = GridSearchCV(gbrt, param_grid,cv=5,scoring='accuracy')\n",
    "grid_gb.fit(X_train, y_train)\n",
    "grid_gb.best_params_"
   ]
  },
  {
   "cell_type": "code",
   "execution_count": 31,
   "id": "jgENzU-yHJos",
   "metadata": {
    "colab": {
     "base_uri": "https://localhost:8080/"
    },
    "id": "jgENzU-yHJos",
    "outputId": "4c4b2a47-f411-4299-f371-59eee7bfb8fc"
   },
   "outputs": [],
   "source": [
    "valid_gb = grid_gb.best_score_\n",
    "best_gb = grid_gb.best_estimator_\n",
    "y_pred_gb = best_gb.predict(X_test)"
   ]
  },
  {
   "cell_type": "code",
   "execution_count": 32,
   "id": "5a87e6a8",
   "metadata": {},
   "outputs": [
    {
     "name": "stdout",
     "output_type": "stream",
     "text": [
      "Top 10 most important features\n",
      "Feature: remainder__nrgy, Importance: 0.06\n",
      "Feature: boxcox__dur, Importance: 0.04\n",
      "Feature: remainder__dB, Importance: 0.03\n",
      "Feature: reduced__pca2, Importance: 0.03\n",
      "Feature: yeo_johnson__acous, Importance: 0.02\n",
      "Feature: remainder__val, Importance: 0.02\n",
      "Feature: reduced__pca7, Importance: 0.02\n",
      "Feature: reduced__pca3, Importance: 0.02\n",
      "Feature: reduced__pca270, Importance: 0.02\n",
      "Feature: reduced__pca250, Importance: 0.02\n"
     ]
    }
   ],
   "source": [
    "feature_importance_gb = best_gb.feature_importances_.round(2)\n",
    "feature_names = X_train.columns\n",
    "# Sort feature importances and feature names together\n",
    "sorted_features_gb = sorted(zip(feature_importance_gb, feature_names), reverse=True)\n",
    "# Print the sorted features\n",
    "print('Top 10 most important features')\n",
    "for importance, feature_name in sorted_features_gb[:10]:\n",
    "    print(f\"Feature: {feature_name}, Importance: {importance}\")"
   ]
  },
  {
   "cell_type": "markdown",
   "id": "NlA-E-8PGXuj",
   "metadata": {
    "id": "NlA-E-8PGXuj"
   },
   "source": [
    "#### 4.3.3 XGBoosting"
   ]
  },
  {
   "cell_type": "markdown",
   "id": "d519b73c",
   "metadata": {},
   "source": [
    "XGBoost includes different regularization penalties to avoid overfitting. Penalty regularizations produce successful training so the model can generalize adequately. Therefore, the model is chosen to use for data training."
   ]
  },
  {
   "cell_type": "code",
   "execution_count": 34,
   "id": "uTLmWwARGXFz",
   "metadata": {
    "colab": {
     "base_uri": "https://localhost:8080/",
     "height": 317
    },
    "id": "uTLmWwARGXFz",
    "outputId": "78514827-74cd-41a2-eb63-0c1feab4ffef"
   },
   "outputs": [
    {
     "data": {
      "text/plain": [
       "{'colsample_bytree': 0.981565812704725,\n",
       " 'gamma': 0.00038938292050716417,\n",
       " 'learning_rate': 0.3276634677873652,\n",
       " 'max_depth': 2,\n",
       " 'n_estimators': 111}"
      ]
     },
     "execution_count": 34,
     "metadata": {},
     "output_type": "execute_result"
    }
   ],
   "source": [
    "le = LabelEncoder()\n",
    "y_train_label = le.fit_transform(y_train)\n",
    "params = {\"colsample_bytree\": uniform(0.7, 0.3), \"gamma\": uniform(0, 0.5), \"learning_rate\": uniform(0.03, 0.3), \n",
    "          \"max_depth\": randint(2, 6), \"n_estimators\": randint(100, 150)}\n",
    "\n",
    "xgb_model = XGBClassifier(objective='multi:softprob',random_state = 42, n_jobs = -1)\n",
    "          \n",
    "rnd_search = RandomizedSearchCV(xgb_model, param_distributions=params, n_iter = 10, \n",
    "                                cv = 5, scoring ='accuracy', random_state=42)\n",
    "rnd_search.fit(X_train, y_train_label)\n",
    "rnd_search.best_params_"
   ]
  },
  {
   "cell_type": "code",
   "execution_count": 35,
   "id": "wEKeTiYupA0Y",
   "metadata": {
    "colab": {
     "base_uri": "https://localhost:8080/"
    },
    "id": "wEKeTiYupA0Y",
    "outputId": "5f88fc94-0295-4365-c000-fcb85e974b9c"
   },
   "outputs": [],
   "source": [
    "valid_xgb = rnd_search.best_score_\n",
    "best_xgb = rnd_search.best_estimator_\n",
    "y_pred_xgb = le.inverse_transform(best_xgb.predict(X_test))"
   ]
  },
  {
   "cell_type": "markdown",
   "id": "24_LM7EAyM4r",
   "metadata": {
    "id": "24_LM7EAyM4r"
   },
   "source": [
    "#### 4.3.4 Voting"
   ]
  },
  {
   "cell_type": "markdown",
   "id": "12723f68",
   "metadata": {},
   "source": [
    "After training 5 above classifiers, voting classifiers will be trained based on these 5 predictors. We tried 2 types of voting classifiers, namely hard voting and soft voting. In hard voting, the predicted output class is the class with highest majority of votes while soft voting used the average probabilities of the classes to determine which one will be the final prediction. The final result showed that hard voting performed better than soft voting."
   ]
  },
  {
   "cell_type": "code",
   "execution_count": 36,
   "id": "zkI_N3ljySMD",
   "metadata": {
    "colab": {
     "base_uri": "https://localhost:8080/",
     "height": 631
    },
    "id": "zkI_N3ljySMD",
    "outputId": "fca00472-3fea-48eb-fa77-d11e6cdd93d6"
   },
   "outputs": [
    {
     "data": {
      "text/plain": [
       "{'voting': 'hard'}"
      ]
     },
     "execution_count": 36,
     "metadata": {},
     "output_type": "execute_result"
    }
   ],
   "source": [
    "params = {'voting': ['hard', 'soft']}\n",
    "voting_class = VotingClassifier(estimators=[('rf', best_rf), ('gb', best_gb), ('xgb', best_xgb), \n",
    "                                            ('svm', best_svm), ('logit', log)], n_jobs=-1)\n",
    "grid_voting = GridSearchCV(voting_class, params, cv = 5, scoring = 'accuracy')\n",
    "grid_voting.fit(X_train, y_train)\n",
    "grid_voting.best_params_"
   ]
  },
  {
   "cell_type": "code",
   "execution_count": 37,
   "id": "rCWDskIL0zAm",
   "metadata": {
    "colab": {
     "base_uri": "https://localhost:8080/"
    },
    "id": "rCWDskIL0zAm",
    "outputId": "2400ecd6-456c-4d14-95ba-8847215f567d"
   },
   "outputs": [],
   "source": [
    "valid_voting = grid_voting.best_score_\n",
    "best_voting = grid_voting.best_estimator_\n",
    "y_pred_voting = best_voting.predict(X_test)"
   ]
  },
  {
   "cell_type": "markdown",
   "id": "0f5ace6c",
   "metadata": {},
   "source": [
    "## 5. Model Comparison & Selection"
   ]
  },
  {
   "cell_type": "markdown",
   "id": "e9b1d1bd",
   "metadata": {},
   "source": [
    "Among 6 classifiers built, Linear SVC and Voting Classifier performed best in 5-fold cross-validation with the accuracy ratio of about 60.84% in both models. Meanwhile, the accuracy of other models ranged from about 48% to 54%. It is expected that using above weak classifiers in voting can improve the performance. However, the accuracy ratio of voting classifier was the same as Linear SVC. Based on these validation results, we choose the prediction of test data from Linear SVC and Voting CLassifier to upload on Kaggle. "
   ]
  },
  {
   "cell_type": "code",
   "execution_count": 38,
   "id": "39e9f560",
   "metadata": {},
   "outputs": [
    {
     "name": "stdout",
     "output_type": "stream",
     "text": [
      "Model Performance Comparison:\n",
      "                     Accuracy_Validation\n",
      "Logistic Regression             0.513187\n",
      "Linear SVC                      0.608449\n",
      "Random Forest                   0.486691\n",
      "Gradient Boosting               0.533309\n",
      "XGBoosting                      0.539902\n",
      "Voting                          0.608425\n"
     ]
    }
   ],
   "source": [
    "accuracy_results = {\n",
    "    'Logistic Regression': valid_log,\n",
    "    'Linear SVC': valid_svm,\n",
    "    'Random Forest': valid_rf,\n",
    "    'Gradient Boosting': valid_gb,\n",
    "    'XGBoosting': valid_xgb,\n",
    "    'Voting': valid_voting\n",
    "}\n",
    "# Convert the dictionary into a pandas DataFrame\n",
    "results_df = pd.DataFrame.from_dict(accuracy_results, orient='index', columns=['Accuracy_Validation'])\n",
    "# Display the results as a table\n",
    "print(\"Model Performance Comparison:\")\n",
    "print(results_df)"
   ]
  },
  {
   "cell_type": "markdown",
   "id": "230d716b",
   "metadata": {},
   "source": [
    "## 6. Conclusion"
   ]
  },
  {
   "cell_type": "markdown",
   "id": "cf1baae1",
   "metadata": {},
   "source": [
    "The results of predictions from both models submitted on Kaggle are 51.79%, which is out of our expectation as our models just focus on predicting 15 classes with the most frenquencies in data train. The reason implied under these results might be because all these 15 classes also contribute a large proportion of test dataset. Beside, we also tried grouping 20 classes in train dataset with the expectation that our model can learn to predict more classes and improve the accuracy score. However, this grouping did not improve model's performance."
   ]
  },
  {
   "cell_type": "markdown",
   "id": "f98dd259",
   "metadata": {},
   "source": [
    "Regarding feature importance, the results from Random Forest and Gradient Boosting are litte different, however there are several variables, which appeared in the top 10 features of both models, namely acoustic, energy, duration and loudness. Therefore, further exploration that we recommend is using these important features to predict music genres and inspect the influences of these factors on predicting type of music. Besides, as the small size of dataset prevented us from predicting more classes in dataset, collecting more data might help improve the performance, especially to predict genres with low frequencies in this dataset."
   ]
  }
 ],
 "metadata": {
  "colab": {
   "provenance": [],
   "toc_visible": true
  },
  "kernelspec": {
   "display_name": "Python 3 (ipykernel)",
   "language": "python",
   "name": "python3"
  },
  "language_info": {
   "codemirror_mode": {
    "name": "ipython",
    "version": 3
   },
   "file_extension": ".py",
   "mimetype": "text/x-python",
   "name": "python",
   "nbconvert_exporter": "python",
   "pygments_lexer": "ipython3",
   "version": "3.10.9"
  }
 },
 "nbformat": 4,
 "nbformat_minor": 5
}
